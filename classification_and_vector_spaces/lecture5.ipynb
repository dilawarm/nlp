{
 "cells": [
  {
   "cell_type": "markdown",
   "id": "2297065c",
   "metadata": {},
   "source": [
    "# Linear algebra in Python with NumPy"
   ]
  },
  {
   "cell_type": "code",
   "execution_count": 1,
   "id": "7777ab7b",
   "metadata": {},
   "outputs": [],
   "source": [
    "import numpy as np"
   ]
  },
  {
   "cell_type": "markdown",
   "id": "e58cfa64",
   "metadata": {},
   "source": [
    "## Defining lists and numpy arrays"
   ]
  },
  {
   "cell_type": "code",
   "execution_count": 4,
   "id": "1a3bcbc5",
   "metadata": {},
   "outputs": [],
   "source": [
    "alist = [1, 2, 3, 4, 5]\n",
    "narray = np.array([1, 2, 3, 4])"
   ]
  },
  {
   "cell_type": "code",
   "execution_count": 5,
   "id": "78a438da",
   "metadata": {},
   "outputs": [
    {
     "name": "stdout",
     "output_type": "stream",
     "text": [
      "[1, 2, 3, 4, 5]\n",
      "[1 2 3 4]\n",
      "<class 'list'>\n",
      "<class 'numpy.ndarray'>\n"
     ]
    }
   ],
   "source": [
    "print(alist)\n",
    "print(narray)\n",
    "\n",
    "print(type(alist))\n",
    "print(type(narray))"
   ]
  },
  {
   "cell_type": "markdown",
   "id": "1536d581",
   "metadata": {},
   "source": [
    "## Algebraic operators on NumPy arrays vs. Python lists"
   ]
  },
  {
   "cell_type": "code",
   "execution_count": 6,
   "id": "9de2e40c",
   "metadata": {},
   "outputs": [
    {
     "name": "stdout",
     "output_type": "stream",
     "text": [
      "[2 4 6 8]\n",
      "[1, 2, 3, 4, 5, 1, 2, 3, 4, 5]\n"
     ]
    }
   ],
   "source": [
    "print(narray + narray)\n",
    "print(alist + alist)"
   ]
  },
  {
   "cell_type": "code",
   "execution_count": 7,
   "id": "865e33a5",
   "metadata": {},
   "outputs": [
    {
     "name": "stdout",
     "output_type": "stream",
     "text": [
      "[ 3  6  9 12]\n",
      "[1, 2, 3, 4, 5, 1, 2, 3, 4, 5, 1, 2, 3, 4, 5]\n"
     ]
    }
   ],
   "source": [
    "print(narray * 3)\n",
    "print(alist * 3)"
   ]
  },
  {
   "cell_type": "markdown",
   "id": "f44f9dce",
   "metadata": {},
   "source": [
    "## Matrix or Array of Arrays"
   ]
  },
  {
   "cell_type": "code",
   "execution_count": 8,
   "id": "a6b03de9",
   "metadata": {},
   "outputs": [
    {
     "name": "stdout",
     "output_type": "stream",
     "text": [
      "[[1 2 3 4]\n",
      " [1 2 3 4]\n",
      " [1 2 3 4]]\n",
      "[[1 2 3 4 5]\n",
      " [1 2 3 4 5]\n",
      " [1 2 3 4 5]]\n",
      "[[1 2 3 4]\n",
      " [1 1 1 1]\n",
      " [1 2 3 4]]\n"
     ]
    }
   ],
   "source": [
    "npmatrix1 = np.array([narray, narray, narray])\n",
    "npmatrix2 = np.array([alist, alist, alist])\n",
    "npmatrix3 = np.array([narray, [1, 1, 1, 1], narray])\n",
    "\n",
    "print(npmatrix1)\n",
    "print(npmatrix2)\n",
    "print(npmatrix3)"
   ]
  },
  {
   "cell_type": "code",
   "execution_count": 9,
   "id": "9e30225f",
   "metadata": {},
   "outputs": [
    {
     "name": "stdout",
     "output_type": "stream",
     "text": [
      "[[1 2]\n",
      " [3 4]]\n",
      "[[2 4]\n",
      " [6 8]]\n"
     ]
    }
   ],
   "source": [
    "okmatrix = np.array([[1, 2], [3, 4]])\n",
    "print(okmatrix)\n",
    "print(okmatrix * 2)"
   ]
  },
  {
   "cell_type": "code",
   "execution_count": 10,
   "id": "0f1e000e",
   "metadata": {},
   "outputs": [
    {
     "name": "stdout",
     "output_type": "stream",
     "text": [
      "[list([1, 2]) list([3, 4]) list([5, 6, 7])]\n",
      "[list([1, 2, 1, 2]) list([3, 4, 3, 4]) list([5, 6, 7, 5, 6, 7])]\n"
     ]
    },
    {
     "name": "stderr",
     "output_type": "stream",
     "text": [
      "<ipython-input-10-55dc520417ee>:1: VisibleDeprecationWarning: Creating an ndarray from ragged nested sequences (which is a list-or-tuple of lists-or-tuples-or ndarrays with different lengths or shapes) is deprecated. If you meant to do this, you must specify 'dtype=object' when creating the ndarray.\n",
      "  badmatrix = np.array([[1, 2], [3, 4], [5, 6, 7]])\n"
     ]
    }
   ],
   "source": [
    "badmatrix = np.array([[1, 2], [3, 4], [5, 6, 7]])\n",
    "print(badmatrix)\n",
    "print(badmatrix * 2)"
   ]
  },
  {
   "cell_type": "markdown",
   "id": "eeac1280",
   "metadata": {},
   "source": [
    "## Scaling and translating matrices"
   ]
  },
  {
   "cell_type": "code",
   "execution_count": 11,
   "id": "b85ae348",
   "metadata": {},
   "outputs": [
    {
     "name": "stdout",
     "output_type": "stream",
     "text": [
      "[[3 5]\n",
      " [7 9]]\n"
     ]
    }
   ],
   "source": [
    "result = okmatrix * 2 + 1 # For each element in the matrix, multiply by 2 and add 1\n",
    "print(result)"
   ]
  },
  {
   "cell_type": "code",
   "execution_count": 12,
   "id": "0352742b",
   "metadata": {},
   "outputs": [
    {
     "name": "stdout",
     "output_type": "stream",
     "text": [
      "[[2 4]\n",
      " [6 8]]\n",
      "[[0 0]\n",
      " [0 0]]\n"
     ]
    }
   ],
   "source": [
    "result1 = okmatrix + okmatrix\n",
    "print(result1)\n",
    "\n",
    "# Subtract two sum compatible matrices. This is called the difference vector\n",
    "result2 = okmatrix - okmatrix\n",
    "print(result2)"
   ]
  },
  {
   "cell_type": "code",
   "execution_count": 13,
   "id": "91d7159f",
   "metadata": {},
   "outputs": [
    {
     "name": "stdout",
     "output_type": "stream",
     "text": [
      "[[ 1  4]\n",
      " [ 9 16]]\n"
     ]
    }
   ],
   "source": [
    "result = okmatrix * okmatrix # Multiply each element by itself\n",
    "print(result)"
   ]
  },
  {
   "cell_type": "markdown",
   "id": "5c43707d",
   "metadata": {},
   "source": [
    "## Transpose a matrix"
   ]
  },
  {
   "cell_type": "code",
   "execution_count": 14,
   "id": "5956e35d",
   "metadata": {},
   "outputs": [
    {
     "name": "stdout",
     "output_type": "stream",
     "text": [
      "Original matrix 3 x 2\n",
      "[[1 2]\n",
      " [3 4]\n",
      " [5 6]]\n",
      "Transposed matrix 2 x 3\n",
      "[[1 3 5]\n",
      " [2 4 6]]\n"
     ]
    }
   ],
   "source": [
    "matrix3x2 = np.array([[1, 2], [3, 4], [5, 6]]) # Define a 3x2 matrix\n",
    "print('Original matrix 3 x 2')\n",
    "print(matrix3x2)\n",
    "print('Transposed matrix 2 x 3')\n",
    "print(matrix3x2.T)"
   ]
  },
  {
   "cell_type": "code",
   "execution_count": 15,
   "id": "26dc508f",
   "metadata": {},
   "outputs": [
    {
     "name": "stdout",
     "output_type": "stream",
     "text": [
      "Original array\n",
      "[[1 2 3 4]]\n",
      "Transposed array\n",
      "[[1]\n",
      " [2]\n",
      " [3]\n",
      " [4]]\n"
     ]
    }
   ],
   "source": [
    "nparray = np.array([[1, 2, 3, 4]]) # Define a 1 x 4 matrix. Note the 2 level of square brackets\n",
    "print('Original array')\n",
    "print(nparray)\n",
    "print('Transposed array')\n",
    "print(nparray.T)"
   ]
  },
  {
   "cell_type": "markdown",
   "id": "85c81578",
   "metadata": {},
   "source": [
    "## Get the norm of a nparray or matrix"
   ]
  },
  {
   "cell_type": "code",
   "execution_count": 16,
   "id": "e4efabbf",
   "metadata": {},
   "outputs": [
    {
     "name": "stdout",
     "output_type": "stream",
     "text": [
      "5.477225575051661\n",
      "5.477225575051661\n"
     ]
    }
   ],
   "source": [
    "nparray1 = np.array([1, 2, 3, 4]) # Define an array\n",
    "norm1 = np.linalg.norm(nparray1)\n",
    "\n",
    "nparray2 = np.array([[1, 2], [3, 4]]) # Define a 2 x 2 matrix. Note the 2 level of square brackets\n",
    "norm2 = np.linalg.norm(nparray2) \n",
    "\n",
    "print(norm1)\n",
    "print(norm2)"
   ]
  },
  {
   "cell_type": "code",
   "execution_count": 17,
   "id": "a41726e9",
   "metadata": {},
   "outputs": [
    {
     "name": "stdout",
     "output_type": "stream",
     "text": [
      "[3.74165739 3.74165739]\n",
      "[1.41421356 2.82842712 4.24264069]\n"
     ]
    }
   ],
   "source": [
    "nparray2 = np.array([[1, 1], [2, 2], [3, 3]]) # Define a 3 x 2 matrix. \n",
    "\n",
    "normByCols = np.linalg.norm(nparray2, axis=0) # Get the norm for each column. Returns 2 elements\n",
    "normByRows = np.linalg.norm(nparray2, axis=1) # get the norm for each row. Returns 3 elements\n",
    "\n",
    "print(normByCols)\n",
    "print(normByRows)"
   ]
  },
  {
   "cell_type": "markdown",
   "id": "f1d46446",
   "metadata": {},
   "source": [
    "## The dot product between arrays: All the flavors"
   ]
  },
  {
   "cell_type": "code",
   "execution_count": 18,
   "id": "cd501b65",
   "metadata": {},
   "outputs": [
    {
     "name": "stdout",
     "output_type": "stream",
     "text": [
      "38\n",
      "38\n",
      "38\n",
      "38\n"
     ]
    }
   ],
   "source": [
    "nparray1 = np.array([0, 1, 2, 3]) # Define an array\n",
    "nparray2 = np.array([4, 5, 6, 7]) # Define an array\n",
    "\n",
    "flavor1 = np.dot(nparray1, nparray2) # Recommended way\n",
    "print(flavor1)\n",
    "\n",
    "flavor2 = np.sum(nparray1 * nparray2) # Ok way\n",
    "print(flavor2)\n",
    "\n",
    "flavor3 = nparray1 @ nparray2         # Geeks way\n",
    "print(flavor3)\n",
    "\n",
    "# As you never should do:             # Noobs way\n",
    "flavor4 = 0\n",
    "for a, b in zip(nparray1, nparray2):\n",
    "    flavor4 += a * b\n",
    "    \n",
    "print(flavor4)"
   ]
  },
  {
   "cell_type": "code",
   "execution_count": 19,
   "id": "a902dd72",
   "metadata": {},
   "outputs": [
    {
     "name": "stdout",
     "output_type": "stream",
     "text": [
      "11 = 11\n"
     ]
    }
   ],
   "source": [
    "norm1 = np.dot(np.array([1, 2]), np.array([3, 4])) # Dot product on nparrays\n",
    "norm2 = np.dot([1, 2], [3, 4]) # Dot product on python lists\n",
    "\n",
    "print(norm1, '=', norm2 )"
   ]
  },
  {
   "cell_type": "markdown",
   "id": "4dee6e2a",
   "metadata": {},
   "source": [
    "## Sums by rows or columns"
   ]
  },
  {
   "cell_type": "code",
   "execution_count": 20,
   "id": "beee6f5d",
   "metadata": {},
   "outputs": [
    {
     "name": "stdout",
     "output_type": "stream",
     "text": [
      "Sum by columns: \n",
      "[ 6 -6]\n",
      "Sum by rows:\n",
      "[0 0 0]\n"
     ]
    }
   ],
   "source": [
    "nparray2 = np.array([[1, -1], [2, -2], [3, -3]]) # Define a 3 x 2 matrix. \n",
    "\n",
    "sumByCols = np.sum(nparray2, axis=0) # Get the sum for each column. Returns 2 elements\n",
    "sumByRows = np.sum(nparray2, axis=1) # get the sum for each row. Returns 3 elements\n",
    "\n",
    "print('Sum by columns: ')\n",
    "print(sumByCols)\n",
    "print('Sum by rows:')\n",
    "print(sumByRows)"
   ]
  },
  {
   "cell_type": "markdown",
   "id": "a61b11bf",
   "metadata": {},
   "source": [
    "## Get the mean by rows or columns"
   ]
  },
  {
   "cell_type": "code",
   "execution_count": 21,
   "id": "11f83ef6",
   "metadata": {},
   "outputs": [
    {
     "name": "stdout",
     "output_type": "stream",
     "text": [
      "Matrix mean: \n",
      "0.0\n",
      "Mean by columns: \n",
      "[ 2. -2.]\n",
      "Mean by rows:\n",
      "[0. 0. 0.]\n"
     ]
    }
   ],
   "source": [
    "nparray2 = np.array([[1, -1], [2, -2], [3, -3]]) # Define a 3 x 2 matrix. Chosen to be a matrix with 0 mean\n",
    "\n",
    "mean = np.mean(nparray2) # Get the mean for the whole matrix\n",
    "meanByCols = np.mean(nparray2, axis=0) # Get the mean for each column. Returns 2 elements\n",
    "meanByRows = np.mean(nparray2, axis=1) # get the mean for each row. Returns 3 elements\n",
    "\n",
    "print('Matrix mean: ')\n",
    "print(mean)\n",
    "print('Mean by columns: ')\n",
    "print(meanByCols)\n",
    "print('Mean by rows:')\n",
    "print(meanByRows)"
   ]
  },
  {
   "cell_type": "code",
   "execution_count": 24,
   "id": "6be70ad1",
   "metadata": {},
   "outputs": [
    {
     "name": "stdout",
     "output_type": "stream",
     "text": [
      "Original matrix\n",
      "[[1 1]\n",
      " [2 2]\n",
      " [3 3]]\n",
      "Centered by columns matrix\n",
      "[[-1. -1.]\n",
      " [ 0.  0.]\n",
      " [ 1.  1.]]\n",
      "New mean by column\n",
      "[0. 0.]\n"
     ]
    }
   ],
   "source": [
    "nparray2 = np.array([[1, 1], [2, 2], [3, 3]]) # Define a 3 x 2 matrix. \n",
    "\n",
    "nparrayCentered = nparray2 - np.mean(nparray2, axis=0) # Remove the mean for each column\n",
    "\n",
    "print('Original matrix')\n",
    "print(nparray2)\n",
    "print('Centered by columns matrix')\n",
    "print(nparrayCentered)\n",
    "\n",
    "print('New mean by column')\n",
    "print(nparrayCentered.mean(axis=0))"
   ]
  },
  {
   "cell_type": "code",
   "execution_count": 25,
   "id": "ca38eb56",
   "metadata": {},
   "outputs": [
    {
     "name": "stdout",
     "output_type": "stream",
     "text": [
      "Original matrix\n",
      "[[1 3]\n",
      " [2 4]\n",
      " [3 5]]\n",
      "Centered by columns matrix\n",
      "[[-1.  1.]\n",
      " [-1.  1.]\n",
      " [-1.  1.]]\n",
      "New mean by rows\n",
      "[0. 0. 0.]\n"
     ]
    }
   ],
   "source": [
    "nparray2 = np.array([[1, 3], [2, 4], [3, 5]]) # Define a 3 x 2 matrix. \n",
    "\n",
    "nparrayCentered = nparray2.T - np.mean(nparray2, axis=1) # Remove the mean for each row\n",
    "nparrayCentered = nparrayCentered.T # Transpose back the result\n",
    "\n",
    "print('Original matrix')\n",
    "print(nparray2)\n",
    "print('Centered by columns matrix')\n",
    "print(nparrayCentered)\n",
    "\n",
    "print('New mean by rows')\n",
    "print(nparrayCentered.mean(axis=1))"
   ]
  },
  {
   "cell_type": "code",
   "execution_count": 27,
   "id": "83fd1185",
   "metadata": {},
   "outputs": [
    {
     "name": "stdout",
     "output_type": "stream",
     "text": [
      "3.0  ==  3.0\n"
     ]
    }
   ],
   "source": [
    "nparray2 = np.array([[1, 3], [2, 4], [3, 5]]) # Define a 3 x 2 matrix. \n",
    "\n",
    "mean1 = np.mean(nparray2) # Static way\n",
    "mean2 = nparray2.mean()   # Dynamic way\n",
    "\n",
    "print(mean1, ' == ', mean2)"
   ]
  }
 ],
 "metadata": {
  "kernelspec": {
   "display_name": "Python 3",
   "language": "python",
   "name": "python3"
  },
  "language_info": {
   "codemirror_mode": {
    "name": "ipython",
    "version": 3
   },
   "file_extension": ".py",
   "mimetype": "text/x-python",
   "name": "python",
   "nbconvert_exporter": "python",
   "pygments_lexer": "ipython3",
   "version": "3.8.5"
  }
 },
 "nbformat": 4,
 "nbformat_minor": 5
}
